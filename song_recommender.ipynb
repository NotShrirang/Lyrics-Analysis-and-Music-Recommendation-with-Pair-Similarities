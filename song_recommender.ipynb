{
 "cells": [
  {
   "cell_type": "markdown",
   "metadata": {},
   "source": [
    "# Song Recommendation using Natural Language Processing"
   ]
  },
  {
   "cell_type": "code",
   "execution_count": 65,
   "metadata": {},
   "outputs": [],
   "source": [
    "import matplotlib.pyplot as plt\n",
    "import pandas as pd\n",
    "import seaborn as sns\n",
    "from sklearn.feature_extraction.text import TfidfVectorizer\n",
    "from sklearn.metrics.pairwise import cosine_similarity"
   ]
  },
  {
   "cell_type": "code",
   "execution_count": 66,
   "metadata": {},
   "outputs": [],
   "source": [
    "songs = pd.read_csv('Datasets/spotify_millsongdata.csv')"
   ]
  },
  {
   "cell_type": "code",
   "execution_count": 67,
   "metadata": {},
   "outputs": [
    {
     "data": {
      "text/html": [
       "<div>\n",
       "<style scoped>\n",
       "    .dataframe tbody tr th:only-of-type {\n",
       "        vertical-align: middle;\n",
       "    }\n",
       "\n",
       "    .dataframe tbody tr th {\n",
       "        vertical-align: top;\n",
       "    }\n",
       "\n",
       "    .dataframe thead th {\n",
       "        text-align: right;\n",
       "    }\n",
       "</style>\n",
       "<table border=\"1\" class=\"dataframe\">\n",
       "  <thead>\n",
       "    <tr style=\"text-align: right;\">\n",
       "      <th></th>\n",
       "      <th>artist</th>\n",
       "      <th>song</th>\n",
       "      <th>link</th>\n",
       "      <th>text</th>\n",
       "    </tr>\n",
       "  </thead>\n",
       "  <tbody>\n",
       "    <tr>\n",
       "      <th>0</th>\n",
       "      <td>ABBA</td>\n",
       "      <td>Ahe's My Kind Of Girl</td>\n",
       "      <td>/a/abba/ahes+my+kind+of+girl_20598417.html</td>\n",
       "      <td>Look at her face, it's a wonderful face  \\r\\nA...</td>\n",
       "    </tr>\n",
       "    <tr>\n",
       "      <th>1</th>\n",
       "      <td>ABBA</td>\n",
       "      <td>Andante, Andante</td>\n",
       "      <td>/a/abba/andante+andante_20002708.html</td>\n",
       "      <td>Take it easy with me, please  \\r\\nTouch me gen...</td>\n",
       "    </tr>\n",
       "    <tr>\n",
       "      <th>2</th>\n",
       "      <td>ABBA</td>\n",
       "      <td>As Good As New</td>\n",
       "      <td>/a/abba/as+good+as+new_20003033.html</td>\n",
       "      <td>I'll never know why I had to go  \\r\\nWhy I had...</td>\n",
       "    </tr>\n",
       "    <tr>\n",
       "      <th>3</th>\n",
       "      <td>ABBA</td>\n",
       "      <td>Bang</td>\n",
       "      <td>/a/abba/bang_20598415.html</td>\n",
       "      <td>Making somebody happy is a question of give an...</td>\n",
       "    </tr>\n",
       "    <tr>\n",
       "      <th>4</th>\n",
       "      <td>ABBA</td>\n",
       "      <td>Bang-A-Boomerang</td>\n",
       "      <td>/a/abba/bang+a+boomerang_20002668.html</td>\n",
       "      <td>Making somebody happy is a question of give an...</td>\n",
       "    </tr>\n",
       "  </tbody>\n",
       "</table>\n",
       "</div>"
      ],
      "text/plain": [
       "  artist                   song                                        link  \\\n",
       "0   ABBA  Ahe's My Kind Of Girl  /a/abba/ahes+my+kind+of+girl_20598417.html   \n",
       "1   ABBA       Andante, Andante       /a/abba/andante+andante_20002708.html   \n",
       "2   ABBA         As Good As New        /a/abba/as+good+as+new_20003033.html   \n",
       "3   ABBA                   Bang                  /a/abba/bang_20598415.html   \n",
       "4   ABBA       Bang-A-Boomerang      /a/abba/bang+a+boomerang_20002668.html   \n",
       "\n",
       "                                                text  \n",
       "0  Look at her face, it's a wonderful face  \\r\\nA...  \n",
       "1  Take it easy with me, please  \\r\\nTouch me gen...  \n",
       "2  I'll never know why I had to go  \\r\\nWhy I had...  \n",
       "3  Making somebody happy is a question of give an...  \n",
       "4  Making somebody happy is a question of give an...  "
      ]
     },
     "execution_count": 67,
     "metadata": {},
     "output_type": "execute_result"
    }
   ],
   "source": [
    "songs.head()"
   ]
  },
  {
   "cell_type": "code",
   "execution_count": 68,
   "metadata": {},
   "outputs": [],
   "source": [
    "songs = songs.sample(n=10000).drop('link', axis=1).reset_index(drop=True)\n",
    "songs['text'] = songs['text'].str.replace(r'\\n', '', regex=True)"
   ]
  },
  {
   "cell_type": "code",
   "execution_count": 69,
   "metadata": {},
   "outputs": [
    {
     "data": {
      "text/html": [
       "<div>\n",
       "<style scoped>\n",
       "    .dataframe tbody tr th:only-of-type {\n",
       "        vertical-align: middle;\n",
       "    }\n",
       "\n",
       "    .dataframe tbody tr th {\n",
       "        vertical-align: top;\n",
       "    }\n",
       "\n",
       "    .dataframe thead th {\n",
       "        text-align: right;\n",
       "    }\n",
       "</style>\n",
       "<table border=\"1\" class=\"dataframe\">\n",
       "  <thead>\n",
       "    <tr style=\"text-align: right;\">\n",
       "      <th></th>\n",
       "      <th>artist</th>\n",
       "      <th>song</th>\n",
       "      <th>text</th>\n",
       "    </tr>\n",
       "  </thead>\n",
       "  <tbody>\n",
       "    <tr>\n",
       "      <th>0</th>\n",
       "      <td>Bruce Springsteen</td>\n",
       "      <td>Bobby Jean</td>\n",
       "      <td>Well I came by your house the other day, your ...</td>\n",
       "    </tr>\n",
       "    <tr>\n",
       "      <th>1</th>\n",
       "      <td>Enya</td>\n",
       "      <td>Marble Halls</td>\n",
       "      <td>I dreamt I dwelt in marble halls  \\rWith vassa...</td>\n",
       "    </tr>\n",
       "    <tr>\n",
       "      <th>2</th>\n",
       "      <td>Amy Grant</td>\n",
       "      <td>That's What Love Is For</td>\n",
       "      <td>Sometimes we make it harder than it is  \\rWe'l...</td>\n",
       "    </tr>\n",
       "    <tr>\n",
       "      <th>3</th>\n",
       "      <td>Cat Stevens</td>\n",
       "      <td>Two Fine People</td>\n",
       "      <td>Now that I've passed your test  \\rHow can I pr...</td>\n",
       "    </tr>\n",
       "    <tr>\n",
       "      <th>4</th>\n",
       "      <td>Justin Bieber</td>\n",
       "      <td>Sorry</td>\n",
       "      <td>[Verse 1]  \\rYou gotta go and get angry at all...</td>\n",
       "    </tr>\n",
       "  </tbody>\n",
       "</table>\n",
       "</div>"
      ],
      "text/plain": [
       "              artist                     song  \\\n",
       "0  Bruce Springsteen               Bobby Jean   \n",
       "1               Enya             Marble Halls   \n",
       "2          Amy Grant  That's What Love Is For   \n",
       "3        Cat Stevens          Two Fine People   \n",
       "4      Justin Bieber                    Sorry   \n",
       "\n",
       "                                                text  \n",
       "0  Well I came by your house the other day, your ...  \n",
       "1  I dreamt I dwelt in marble halls  \\rWith vassa...  \n",
       "2  Sometimes we make it harder than it is  \\rWe'l...  \n",
       "3  Now that I've passed your test  \\rHow can I pr...  \n",
       "4  [Verse 1]  \\rYou gotta go and get angry at all...  "
      ]
     },
     "execution_count": 69,
     "metadata": {},
     "output_type": "execute_result"
    }
   ],
   "source": [
    "songs.head()"
   ]
  },
  {
   "cell_type": "code",
   "execution_count": 70,
   "metadata": {},
   "outputs": [],
   "source": [
    "text_input = \"\"\"Wise men say\n",
    "Only fools rush in\n",
    "But I can't help falling in love with you\n",
    "Shall I stay?\n",
    "Would it be a sin\n",
    "If I can't help falling in love with you?\n",
    "Like a river flows\n",
    "Surely to the sea\n",
    "Darling, so it goes\n",
    "Some things are meant to be\n",
    "Take my hand\n",
    "Take my whole life, too\n",
    "For I can't help falling in love with you\n",
    "Like a river flows\n",
    "Surely to the sea\n",
    "Darling, so it goes\n",
    "Some things are meant to be\n",
    "Take my hand\n",
    "Take my whole life, too\n",
    "For I can't help falling in love with you\n",
    "For I can't help falling in love with you\"\"\""
   ]
  },
  {
   "cell_type": "code",
   "execution_count": 71,
   "metadata": {},
   "outputs": [
    {
     "name": "stderr",
     "output_type": "stream",
     "text": [
      "C:\\Users\\Shrirang\\AppData\\Local\\Temp\\ipykernel_1752\\2059816204.py:1: FutureWarning: The frame.append method is deprecated and will be removed from pandas in a future version. Use pandas.concat instead.\n",
      "  songs2: pd.DataFrame = songs.append(songs.iloc[0])\n"
     ]
    },
    {
     "data": {
      "text/html": [
       "<div>\n",
       "<style scoped>\n",
       "    .dataframe tbody tr th:only-of-type {\n",
       "        vertical-align: middle;\n",
       "    }\n",
       "\n",
       "    .dataframe tbody tr th {\n",
       "        vertical-align: top;\n",
       "    }\n",
       "\n",
       "    .dataframe thead th {\n",
       "        text-align: right;\n",
       "    }\n",
       "</style>\n",
       "<table border=\"1\" class=\"dataframe\">\n",
       "  <thead>\n",
       "    <tr style=\"text-align: right;\">\n",
       "      <th></th>\n",
       "      <th>artist</th>\n",
       "      <th>song</th>\n",
       "      <th>text</th>\n",
       "    </tr>\n",
       "  </thead>\n",
       "  <tbody>\n",
       "    <tr>\n",
       "      <th>0</th>\n",
       "      <td>Input_artist</td>\n",
       "      <td>Input_Song</td>\n",
       "      <td>Wise men say\\nOnly fools rush in\\nBut I can't ...</td>\n",
       "    </tr>\n",
       "    <tr>\n",
       "      <th>1</th>\n",
       "      <td>Enya</td>\n",
       "      <td>Marble Halls</td>\n",
       "      <td>I dreamt I dwelt in marble halls  \\rWith vassa...</td>\n",
       "    </tr>\n",
       "    <tr>\n",
       "      <th>2</th>\n",
       "      <td>Amy Grant</td>\n",
       "      <td>That's What Love Is For</td>\n",
       "      <td>Sometimes we make it harder than it is  \\rWe'l...</td>\n",
       "    </tr>\n",
       "    <tr>\n",
       "      <th>3</th>\n",
       "      <td>Cat Stevens</td>\n",
       "      <td>Two Fine People</td>\n",
       "      <td>Now that I've passed your test  \\rHow can I pr...</td>\n",
       "    </tr>\n",
       "    <tr>\n",
       "      <th>4</th>\n",
       "      <td>Justin Bieber</td>\n",
       "      <td>Sorry</td>\n",
       "      <td>[Verse 1]  \\rYou gotta go and get angry at all...</td>\n",
       "    </tr>\n",
       "    <tr>\n",
       "      <th>...</th>\n",
       "      <td>...</td>\n",
       "      <td>...</td>\n",
       "      <td>...</td>\n",
       "    </tr>\n",
       "    <tr>\n",
       "      <th>9996</th>\n",
       "      <td>Dean Martin</td>\n",
       "      <td>I'm So Lonesome I Could Cry</td>\n",
       "      <td>Hear that lonesome whippoorwill  \\rHe sounds t...</td>\n",
       "    </tr>\n",
       "    <tr>\n",
       "      <th>9997</th>\n",
       "      <td>Cheap Trick</td>\n",
       "      <td>This Time Around</td>\n",
       "      <td>Never look back but now never lose sight  \\rOf...</td>\n",
       "    </tr>\n",
       "    <tr>\n",
       "      <th>9998</th>\n",
       "      <td>Beach Boys</td>\n",
       "      <td>Getcha Back</td>\n",
       "      <td>Bow bow bow bow oop  \\rAhh ooo oohh waaa oooo ...</td>\n",
       "    </tr>\n",
       "    <tr>\n",
       "      <th>9999</th>\n",
       "      <td>Natalie Grant</td>\n",
       "      <td>Always Be Your Baby</td>\n",
       "      <td>You were my first love  \\rAlways there for me ...</td>\n",
       "    </tr>\n",
       "    <tr>\n",
       "      <th>0</th>\n",
       "      <td>Input_artist</td>\n",
       "      <td>Input_Song</td>\n",
       "      <td>Wise men say\\nOnly fools rush in\\nBut I can't ...</td>\n",
       "    </tr>\n",
       "  </tbody>\n",
       "</table>\n",
       "<p>10001 rows × 3 columns</p>\n",
       "</div>"
      ],
      "text/plain": [
       "             artist                         song  \\\n",
       "0      Input_artist                   Input_Song   \n",
       "1              Enya                 Marble Halls   \n",
       "2         Amy Grant      That's What Love Is For   \n",
       "3       Cat Stevens              Two Fine People   \n",
       "4     Justin Bieber                        Sorry   \n",
       "...             ...                          ...   \n",
       "9996    Dean Martin  I'm So Lonesome I Could Cry   \n",
       "9997    Cheap Trick             This Time Around   \n",
       "9998     Beach Boys                  Getcha Back   \n",
       "9999  Natalie Grant          Always Be Your Baby   \n",
       "0      Input_artist                   Input_Song   \n",
       "\n",
       "                                                   text  \n",
       "0     Wise men say\\nOnly fools rush in\\nBut I can't ...  \n",
       "1     I dreamt I dwelt in marble halls  \\rWith vassa...  \n",
       "2     Sometimes we make it harder than it is  \\rWe'l...  \n",
       "3     Now that I've passed your test  \\rHow can I pr...  \n",
       "4     [Verse 1]  \\rYou gotta go and get angry at all...  \n",
       "...                                                 ...  \n",
       "9996  Hear that lonesome whippoorwill  \\rHe sounds t...  \n",
       "9997  Never look back but now never lose sight  \\rOf...  \n",
       "9998  Bow bow bow bow oop  \\rAhh ooo oohh waaa oooo ...  \n",
       "9999  You were my first love  \\rAlways there for me ...  \n",
       "0     Wise men say\\nOnly fools rush in\\nBut I can't ...  \n",
       "\n",
       "[10001 rows x 3 columns]"
      ]
     },
     "execution_count": 71,
     "metadata": {},
     "output_type": "execute_result"
    }
   ],
   "source": [
    "songs2: pd.DataFrame = songs.append(songs.iloc[0])\n",
    "songs2.loc[songs2.index[-1], 'text'] = text_input\n",
    "songs2.loc[songs2.index[-1], 'song'] = \"Input_Song\"\n",
    "songs2.loc[songs2.index[-1], 'artist'] = \"Input_artist\"\n",
    "songs2"
   ]
  },
  {
   "cell_type": "code",
   "execution_count": 72,
   "metadata": {},
   "outputs": [
    {
     "name": "stdout",
     "output_type": "stream",
     "text": [
      "  (0, 17462)\t0.0808216555348014\n",
      "  (0, 12350)\t0.043617506231320304\n",
      "  (0, 2030)\t0.04056290919939671\n",
      "  (0, 18866)\t0.06687112135283173\n",
      "  (0, 18739)\t0.0447788475270398\n",
      "  (0, 4972)\t0.05641099991872936\n",
      "  (0, 30169)\t0.03214409807824107\n",
      "  (0, 4385)\t0.07381485615391851\n",
      "  (0, 18688)\t0.07594466205631023\n",
      "  (0, 29938)\t0.06687112135283173\n",
      "  (0, 16229)\t0.027562170634611426\n",
      "  (0, 27563)\t0.05665066171373596\n",
      "  (0, 26825)\t0.05940640980745524\n",
      "  (0, 13351)\t0.046911659420754766\n",
      "  (0, 22254)\t0.07291283746994455\n",
      "  (0, 23499)\t0.0808216555348014\n",
      "  (0, 29903)\t0.14144509176517442\n",
      "  (0, 24925)\t0.06390716927095627\n",
      "  (0, 19233)\t0.114518463722288\n",
      "  (0, 30675)\t0.09975623078395386\n",
      "  (0, 30579)\t0.07594466205631023\n",
      "  (0, 4201)\t0.0927720633355591\n",
      "  (0, 24765)\t0.06162981569488812\n",
      "  (0, 17171)\t0.09175720583579483\n",
      "  (0, 18231)\t0.058244780187964015\n",
      "  :\t:\n",
      "  (9999, 18190)\t0.25764938626989264\n",
      "  (9999, 12123)\t0.19745650281738472\n",
      "  (9999, 33195)\t0.25430880496947583\n",
      "  (9999, 29375)\t0.28074931373402556\n",
      "  (9999, 27253)\t0.07787444827085852\n",
      "  (9999, 16957)\t0.2050077214161278\n",
      "  (9999, 17149)\t0.17793578991187595\n",
      "  (9999, 17871)\t0.05659184293527539\n",
      "  (9999, 5936)\t0.04844329521686687\n",
      "  (9999, 29593)\t0.08210227398192226\n",
      "  (9999, 2739)\t0.06974237449207796\n",
      "  (9999, 16870)\t0.04912286094737461\n",
      "  (9999, 31906)\t0.043577763669014655\n",
      "  (9999, 17398)\t0.07801844133872173\n",
      "  (9999, 28613)\t0.1643320898742877\n",
      "  (9999, 10299)\t0.1011634664384535\n",
      "  (9999, 17403)\t0.2748262609591834\n",
      "  (9999, 2030)\t0.32580792712610807\n",
      "  (9999, 4972)\t0.07551706437148092\n",
      "  (9999, 16229)\t0.07379462222014715\n",
      "  (9999, 17171)\t0.2456696328599673\n",
      "  (9999, 32589)\t0.14128721694132113\n",
      "  (9999, 33307)\t0.1687021223136873\n",
      "  (9999, 32383)\t0.09257249051005667\n",
      "  (9999, 15772)\t0.03665504437093351 (10000, 33806)\n"
     ]
    }
   ],
   "source": [
    "documents = [f for f in songs['text']]\n",
    "tfidf = TfidfVectorizer(analyzer='word', stop_words='english')\n",
    "lyrics_matrix = tfidf.fit_transform(documents)\n",
    "print(lyrics_matrix, lyrics_matrix.shape)"
   ]
  },
  {
   "cell_type": "code",
   "execution_count": 73,
   "metadata": {},
   "outputs": [],
   "source": [
    "def create_heatmap(similarity, cmap = \"YlGnBu\"):\n",
    "  df = pd.DataFrame(similarity)\n",
    "  df.columns = songs[0:10]['song']\n",
    "  df.index = songs[0:10]['song']\n",
    "  fig, ax = plt.subplots(figsize=(5,5))\n",
    "  sns.heatmap(df, cmap=cmap)"
   ]
  },
  {
   "cell_type": "code",
   "execution_count": 74,
   "metadata": {},
   "outputs": [
    {
     "name": "stdout",
     "output_type": "stream",
     "text": [
      "[[1.         0.00288498 0.0149212  ... 0.01546873 0.00848013 0.0645249 ]\n",
      " [0.00288498 1.         0.         ... 0.         0.         0.17743235]\n",
      " [0.0149212  0.         1.         ... 0.01040232 0.0169952  0.11821005]\n",
      " ...\n",
      " [0.01546873 0.         0.01040232 ... 1.         0.00981942 0.02228829]\n",
      " [0.00848013 0.         0.0169952  ... 0.00981942 1.         0.02510795]\n",
      " [0.0645249  0.17743235 0.11821005 ... 0.02228829 0.02510795 1.        ]]\n"
     ]
    }
   ],
   "source": [
    "cosine_similarities = cosine_similarity(lyrics_matrix)\n",
    "print(cosine_similarities)"
   ]
  },
  {
   "cell_type": "code",
   "execution_count": 75,
   "metadata": {},
   "outputs": [
    {
     "data": {
      "image/png": "[encoded data removed]",
      "text/plain": [
       "<Figure size 360x360 with 2 Axes>"
      ]
     },
     "metadata": {
      "needs_background": "light"
     },
     "output_type": "display_data"
    }
   ],
   "source": [
    "create_heatmap(similarity= cosine_similarities[-11:-1, -11:-1])"
   ]
  },
  {
   "cell_type": "code",
   "execution_count": 76,
   "metadata": {},
   "outputs": [],
   "source": [
    "similarities = {}\n",
    "\n",
    "for i in range(len(cosine_similarities)):\n",
    "    similar_indices = cosine_similarities[i].argsort()[:-50:-1]\n",
    "    similarities[songs2['song'].iloc[i]] = [(cosine_similarities[i][x], songs2['song'][x], songs2['artist'][x]) for x in similar_indices][1:]"
   ]
  },
  {
   "cell_type": "code",
   "execution_count": 77,
   "metadata": {},
   "outputs": [],
   "source": [
    "class Recommender:\n",
    "    def __init__(self, matrix):\n",
    "        self.matrix_similar = matrix\n",
    "\n",
    "    def _print_message(self, song, recom_song):\n",
    "        rec_items = len(recom_song)\n",
    "        \n",
    "        print(f'The {rec_items} recommended songs are:')\n",
    "        for i in range(rec_items):\n",
    "            print(f\"Number {i+1}:\")\n",
    "            print(f\"{recom_song[i][1]} by {recom_song[i][2]} with {round((1 - recom_song[i][0]), 4)} similarity score\")\n",
    "            print(\"--------------------\")\n",
    "        \n",
    "    def recommend(self, recommendation):\n",
    "        song = recommendation['song']\n",
    "        number_songs = recommendation['number_songs']\n",
    "        recom_song = self.matrix_similar[song][:number_songs]\n",
    "        self._print_message(song=song, recom_song=recom_song)"
   ]
  },
  {
   "cell_type": "code",
   "execution_count": 78,
   "metadata": {},
   "outputs": [],
   "source": [
    "recommedations = Recommender(similarities)"
   ]
  },
  {
   "cell_type": "code",
   "execution_count": 79,
   "metadata": {},
   "outputs": [
    {
     "name": "stdout",
     "output_type": "stream",
     "text": [
      "The 5 recommended songs are:\n",
      "Number 1:\n",
      "Out Of Time by Ramones with 0.695 similarity score\n",
      "--------------------\n",
      "Number 2:\n",
      "Girl, You'll Be A Woman Soon by Neil Diamond with 0.6951 similarity score\n",
      "--------------------\n",
      "Number 3:\n",
      "I Have Always Loved You by Enrique Iglesias with 0.7014 similarity score\n",
      "--------------------\n",
      "Number 4:\n",
      "I Would Do Anything by Kenny Loggins with 0.7134 similarity score\n",
      "--------------------\n",
      "Number 5:\n",
      "Is You Is Or Is You Ain't (My Baby)? by Bing Crosby with 0.7145 similarity score\n",
      "--------------------\n"
     ]
    }
   ],
   "source": [
    "recommendation2 = {\n",
    "    \"song\": songs['song'].iloc[-1],\n",
    "    \"number_songs\": 5\n",
    "}\n",
    "recommedations.recommend(recommendation2)"
   ]
  }
 ],
 "metadata": {
  "kernelspec": {
   "display_name": "Python 3.10.6 64-bit",
   "language": "python",
   "name": "python3"
  },
  "language_info": {
   "codemirror_mode": {
    "name": "ipython",
    "version": 3
   },
   "file_extension": ".py",
   "mimetype": "text/x-python",
   "name": "python",
   "nbconvert_exporter": "python",
   "pygments_lexer": "ipython3",
   "version": "3.10.8"
  },
  "orig_nbformat": 4,
  "vscode": {
   "interpreter": {
    "hash": "e3b727e1c20c3b9375c3bb34eea6b619aee08d21c950bda29b90fca88b97f567"
   }
  }
 },
 "nbformat": 4,
 "nbformat_minor": 2
}
